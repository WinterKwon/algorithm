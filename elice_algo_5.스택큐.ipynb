{
 "cells": [
  {
   "cell_type": "markdown",
   "metadata": {},
   "source": [
    "## [2022-06-21] 엘리스 기초알고 5.스택&큐 - 스택 구현하기\n",
    "### 문제설명\n",
    "정수를 저장하는 stack 구현하기\n",
    "\n",
    "### 이슈\n",
    "문자로 들어오는 입력을 모두 정수 처리하지 않으면 에러 발생\n",
    "```\n",
    " stack.append(int(var.split()[1]))\n",
    "```\n",
    "만약 stack.append(var[2])처럼 정수처리 하지 않으면 에러"
   ]
  },
  {
   "cell_type": "markdown",
   "metadata": {},
   "source": [
    "* 제출 코드"
   ]
  },
  {
   "cell_type": "code",
   "execution_count": null,
   "metadata": {},
   "outputs": [],
   "source": [
    "def main():\n",
    "    x = int(input())\n",
    "    stack = []\n",
    "    for i in range(x):\n",
    "    \n",
    "        var = input()\n",
    "        \n",
    "        if var[0] == '1':\n",
    "            stack.append(int(var.split()[1]))\n",
    "            \n",
    "        elif var[0] == '2':        \n",
    "            if len(stack)>0:\n",
    "                stack.pop()\n",
    "                \n",
    "        elif var[0] == '3':        \n",
    "            print(len(stack))\n",
    "            \n",
    "        elif var[0] == '4':\n",
    "            if len(stack)==0:\n",
    "                print(1)\n",
    "            else:\n",
    "                print(0)\n",
    "                \n",
    "        elif var[0] =='5':\n",
    "            if len(stack)==0:\n",
    "                print(-1)\n",
    "            else:\n",
    "                print(stack[-1])\n",
    "            \n",
    "            \n",
    "    \n",
    "    \n",
    "\n",
    "\n",
    "if __name__==\"__main__\":\n",
    "    main()"
   ]
  },
  {
   "cell_type": "markdown",
   "metadata": {},
   "source": [
    "## 백준 #10828\n",
    "동일 문제\n",
    "> 정수를 저장하는 스택을 구현한 다음, 입력으로 주어지는 명령을 처리하는 프로그램을 작성하시오.\n",
    "\n",
    "명령은 총 다섯 가지이다.\n",
    "\n",
    "- push X: 정수 X를 스택에 넣는 연산이다.  \n",
    "- pop: 스택에서 가장 위에 있는 정수를 빼고, 그 수를 출력한다. 만약 스택에 들어있는 정수가 없는 경우에는 -1을 출력한다.  \n",
    "- size: 스택에 들어있는 정수의 개수를 출력한다.  \n",
    "- empty: 스택이 비어있으면 1, 아니면 0을 출력한다.  \n",
    "- top: 스택의 가장 위에 있는 정수를 출력한다. 만약 스택에 들어있는 정수가 없는 경우에는 -1을 출력한다.  \n",
    "\n",
    "### 입력\n",
    "첫째 줄에 주어지는 명령의 수 N (1 ≤ N ≤ 10,000)이 주어진다. 둘째 줄부터 N개의 줄에는 명령이 하나씩 주어진다.\n",
    "### 출력\n",
    "출력해야하는 명령이 주어질 때마다, 한 줄에 하나씩 출력한다."
   ]
  },
  {
   "cell_type": "code",
   "execution_count": 9,
   "metadata": {},
   "outputs": [],
   "source": [
    "num = int(input())\n",
    "result = []\n",
    "for i in range(num):\n",
    "    var = input().split()\n",
    "    if len(var)==2:\n",
    "        a,b = var\n",
    "    else:\n",
    "        a = var[0]\n",
    "   \n",
    "# print(a,b)\n",
    "    if a == 'push':\n",
    "        result.append(int(b))\n",
    "    elif a == 'top':\n",
    "        if len(result) == 0:\n",
    "            print(-1)\n",
    "        else:\n",
    "            print(result[-1])\n",
    "    elif a == 'pop':\n",
    "        if len(result) == 0:\n",
    "            print(-1)\n",
    "        else:\n",
    "            print(result.pop())\n",
    "    elif a == 'empty':\n",
    "        if len(result) == 0:\n",
    "            print(1)\n",
    "        else:\n",
    "            print(0)\n",
    "    elif a =='size':\n",
    "        print(len(result))\n",
    "\n",
    "    "
   ]
  },
  {
   "cell_type": "markdown",
   "metadata": {},
   "source": [
    "위 코드는 시간 초과  \n",
    "-> sys.stdin.readline() 사용하기\n"
   ]
  },
  {
   "cell_type": "code",
   "execution_count": null,
   "metadata": {},
   "outputs": [],
   "source": [
    "import sys\n",
    "num = int(sys.stdin.readline())\n",
    "result = []\n",
    "for i in range(num):\n",
    "    var = sys.stdin.readline().split()\n",
    "    if len(var)==2:\n",
    "        a,b = var\n",
    "    else:\n",
    "        a = var[0]\n",
    "   \n",
    "# print(a,b)\n",
    "    if a == 'push':\n",
    "        result.append(int(b))\n",
    "    elif a == 'top':\n",
    "        if len(result) == 0:\n",
    "            print(-1)\n",
    "        else:\n",
    "            print(result[-1])\n",
    "    elif a == 'pop':\n",
    "        if len(result) == 0:\n",
    "            print(-1)\n",
    "        else:\n",
    "            print(result.pop())\n",
    "    elif a == 'empty':\n",
    "        if len(result) == 0:\n",
    "            print(1)\n",
    "        else:\n",
    "            print(0)\n",
    "    elif a =='size':\n",
    "        print(len(result))\n",
    "\n",
    "    "
   ]
  },
  {
   "cell_type": "code",
   "execution_count": 4,
   "metadata": {},
   "outputs": [
    {
     "data": {
      "text/plain": [
       "6"
      ]
     },
     "execution_count": 4,
     "metadata": {},
     "output_type": "execute_result"
    }
   ],
   "source": [
    "len('push 1')"
   ]
  },
  {
   "cell_type": "code",
   "execution_count": 5,
   "metadata": {},
   "outputs": [
    {
     "data": {
      "text/plain": [
       "['push']"
      ]
     },
     "execution_count": 5,
     "metadata": {},
     "output_type": "execute_result"
    }
   ],
   "source": [
    "'push'.split()"
   ]
  },
  {
   "cell_type": "code",
   "execution_count": 7,
   "metadata": {},
   "outputs": [
    {
     "data": {
      "text/plain": [
       "['push', '1']"
      ]
     },
     "execution_count": 7,
     "metadata": {},
     "output_type": "execute_result"
    }
   ],
   "source": [
    "'push 1'.split()"
   ]
  },
  {
   "cell_type": "code",
   "execution_count": 14,
   "metadata": {},
   "outputs": [
    {
     "name": "stdout",
     "output_type": "stream",
     "text": [
      "push\n",
      "1\n",
      "['push', '1']\n"
     ]
    }
   ],
   "source": [
    "var = 'push 1'.split()\n",
    "a, b = var\n",
    "print(a)\n",
    "print(b)\n",
    "print(var)"
   ]
  },
  {
   "cell_type": "code",
   "execution_count": 15,
   "metadata": {},
   "outputs": [
    {
     "data": {
      "text/plain": [
       "100"
      ]
     },
     "execution_count": 15,
     "metadata": {},
     "output_type": "execute_result"
    }
   ],
   "source": [
    "List = [None for _ in range(100)]\n",
    "len(List)"
   ]
  },
  {
   "cell_type": "code",
   "execution_count": 16,
   "metadata": {},
   "outputs": [
    {
     "name": "stdout",
     "output_type": "stream",
     "text": [
      "[None, None, None, None, None, None, None, None, None, None, None, None, None, None, None, None, None, None, None, None, None, None, None, None, None, None, None, None, None, None, None, None, None, None, None, None, None, None, None, None, None, None, None, None, None, None, None, None, None, None, None, None, None, None, None, None, None, None, None, None, None, None, None, None, None, None, None, None, None, None, None, None, None, None, None, None, None, None, None, None, None, None, None, None, None, None, None, None, None, None, None, None, None, None, None, None, None, None, None, None, 'Apple 사과']\n"
     ]
    }
   ],
   "source": [
    "List.append('Apple 사과')\n",
    "print(List)"
   ]
  },
  {
   "cell_type": "code",
   "execution_count": 17,
   "metadata": {},
   "outputs": [],
   "source": [
    "List.insert(1, 'Pineapple 파인애플')"
   ]
  },
  {
   "cell_type": "code",
   "execution_count": 18,
   "metadata": {},
   "outputs": [
    {
     "data": {
      "text/plain": [
       "[None,\n",
       " 'Pineapple 파인애플',\n",
       " None,\n",
       " None,\n",
       " None,\n",
       " None,\n",
       " None,\n",
       " None,\n",
       " None,\n",
       " None,\n",
       " None,\n",
       " None,\n",
       " None,\n",
       " None,\n",
       " None,\n",
       " None,\n",
       " None,\n",
       " None,\n",
       " None,\n",
       " None,\n",
       " None,\n",
       " None,\n",
       " None,\n",
       " None,\n",
       " None,\n",
       " None,\n",
       " None,\n",
       " None,\n",
       " None,\n",
       " None,\n",
       " None,\n",
       " None,\n",
       " None,\n",
       " None,\n",
       " None,\n",
       " None,\n",
       " None,\n",
       " None,\n",
       " None,\n",
       " None,\n",
       " None,\n",
       " None,\n",
       " None,\n",
       " None,\n",
       " None,\n",
       " None,\n",
       " None,\n",
       " None,\n",
       " None,\n",
       " None,\n",
       " None,\n",
       " None,\n",
       " None,\n",
       " None,\n",
       " None,\n",
       " None,\n",
       " None,\n",
       " None,\n",
       " None,\n",
       " None,\n",
       " None,\n",
       " None,\n",
       " None,\n",
       " None,\n",
       " None,\n",
       " None,\n",
       " None,\n",
       " None,\n",
       " None,\n",
       " None,\n",
       " None,\n",
       " None,\n",
       " None,\n",
       " None,\n",
       " None,\n",
       " None,\n",
       " None,\n",
       " None,\n",
       " None,\n",
       " None,\n",
       " None,\n",
       " None,\n",
       " None,\n",
       " None,\n",
       " None,\n",
       " None,\n",
       " None,\n",
       " None,\n",
       " None,\n",
       " None,\n",
       " None,\n",
       " None,\n",
       " None,\n",
       " None,\n",
       " None,\n",
       " None,\n",
       " None,\n",
       " None,\n",
       " None,\n",
       " None,\n",
       " None,\n",
       " 'Apple 사과']"
      ]
     },
     "execution_count": 18,
     "metadata": {},
     "output_type": "execute_result"
    }
   ],
   "source": [
    "List"
   ]
  },
  {
   "cell_type": "code",
   "execution_count": 19,
   "metadata": {},
   "outputs": [
    {
     "data": {
      "text/plain": [
       "102"
      ]
     },
     "execution_count": 19,
     "metadata": {},
     "output_type": "execute_result"
    }
   ],
   "source": [
    "len(List)"
   ]
  },
  {
   "cell_type": "code",
   "execution_count": 26,
   "metadata": {},
   "outputs": [
    {
     "name": "stdout",
     "output_type": "stream",
     "text": [
      "< 엘리스 토끼 단어장 >\n"
     ]
    }
   ],
   "source": [
    " # List의 마지막 위치에 새로운 단어를 추가하는 함수에요.\n",
    "def add(List, word):\n",
    "    List.append(word)\n",
    "\n",
    "\n",
    "# List의 index 위치에 새로운 단어를 추가하는 함수에요.\n",
    "def addAt(List, word, index):\n",
    "    # 단어를 추가할 수 없는 경우에는 아래 출력문을 출력해 주세요.\n",
    "    # print(index,\"에\", word, \"를 추가할 수 없습니다\")\n",
    "    if index >= len(List):\n",
    "        print(index,\"에\", word, \"를 추가할 수 없습니다\")\n",
    "    else:\n",
    "        List.insert(index, word)\n",
    "\n",
    "\n",
    "# List의 index 위치에 있는 단어를 제거하는 함수에요.\n",
    "def deleteAt(List, index):\n",
    "    # 단어를 제거할 수 없는 경우에는 아래 출력문을 출력해 주세요.\n",
    "    if index >= len(List):\n",
    "        print(index,\"에서 단어를 제거할 수 없습니다\")\n",
    "    else:\n",
    "        List.pop(index)\n",
    "\n",
    "\n",
    "def printList(List):\n",
    "    # 리스트를 출력하는 함수에요. 수정하지 않아도 돼요.\n",
    "    print(\"< 엘리스 토끼 단어장 >\")\n",
    "    for word in List:\n",
    "        if word != None:\n",
    "            print(word)\n",
    "        else:\n",
    "            return\n",
    "\n",
    "\n",
    "def main():\n",
    "    # 100개짜리 List를 만드는 코드입니다. 지우지 마세요.\n",
    "    List = [None for _ in range(100)]\n",
    "    while True:\n",
    "        value = input()\n",
    "        if value == \"\":\n",
    "            break\n",
    "        elif value.startswith(\"#\"):\n",
    "            continue\n",
    "        elif value == \"printList\":\n",
    "            printList(List)\n",
    "        elif value.startswith(\"add \"):\n",
    "            add(List, value[4:])\n",
    "        elif value.startswith(\"addAt \"):\n",
    "            value = value[6:].split()\n",
    "            addAt(List, ' '.join(value[:-1]), int(value[-1]))\n",
    "        elif value.startswith(\"deleteAt \"):\n",
    "            deleteAt(List, int(value.split()[1]))\n",
    "        else:\n",
    "            print(\"잘못된 입력입니다.\")\n",
    "\n",
    "\n",
    "if __name__ == \"__main__\":\n",
    "    main()\n"
   ]
  },
  {
   "cell_type": "code",
   "execution_count": 27,
   "metadata": {},
   "outputs": [
    {
     "data": {
      "text/plain": [
       "'Apple 사과'"
      ]
     },
     "execution_count": 27,
     "metadata": {},
     "output_type": "execute_result"
    }
   ],
   "source": []
  },
  {
   "cell_type": "code",
   "execution_count": 28,
   "metadata": {},
   "outputs": [],
   "source": [
    "List.append('add Apple 사과'[4:])"
   ]
  },
  {
   "cell_type": "code",
   "execution_count": 29,
   "metadata": {},
   "outputs": [
    {
     "data": {
      "text/plain": [
       "'Apple 사과'"
      ]
     },
     "execution_count": 29,
     "metadata": {},
     "output_type": "execute_result"
    }
   ],
   "source": [
    "List[-1]"
   ]
  },
  {
   "cell_type": "code",
   "execution_count": 30,
   "metadata": {},
   "outputs": [
    {
     "name": "stdout",
     "output_type": "stream",
     "text": [
      "Pineapple 파인애플\n",
      "Apple 사과\n"
     ]
    }
   ],
   "source": [
    "for word in List:\n",
    "    if word != None:\n",
    "        print(word)\n",
    "    "
   ]
  },
  {
   "cell_type": "code",
   "execution_count": 32,
   "metadata": {},
   "outputs": [
    {
     "name": "stdout",
     "output_type": "stream",
     "text": [
      "None\n"
     ]
    }
   ],
   "source": [
    "print(['a','b'].insert(1, 'c'))"
   ]
  },
  {
   "cell_type": "code",
   "execution_count": 33,
   "metadata": {},
   "outputs": [
    {
     "name": "stdout",
     "output_type": "stream",
     "text": [
      "['a', 'c', 'b']\n"
     ]
    }
   ],
   "source": [
    "lst = ['a','b']\n",
    "lst.insert(1,'c')\n",
    "print(lst)"
   ]
  },
  {
   "cell_type": "code",
   "execution_count": null,
   "metadata": {},
   "outputs": [],
   "source": []
  }
 ],
 "metadata": {
  "kernelspec": {
   "display_name": "Python 3.8.5 64-bit",
   "language": "python",
   "name": "python3"
  },
  "language_info": {
   "codemirror_mode": {
    "name": "ipython",
    "version": 3
   },
   "file_extension": ".py",
   "mimetype": "text/x-python",
   "name": "python",
   "nbconvert_exporter": "python",
   "pygments_lexer": "ipython3",
   "version": "3.8.5"
  },
  "orig_nbformat": 4,
  "vscode": {
   "interpreter": {
    "hash": "0f13a248913a870af0ba2054fe51062beda9d13fb1c3c7d582ccf867b2b153ae"
   }
  }
 },
 "nbformat": 4,
 "nbformat_minor": 2
}
