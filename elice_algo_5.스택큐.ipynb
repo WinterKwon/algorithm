{
 "cells": [
  {
   "cell_type": "markdown",
   "metadata": {},
   "source": [
    "## [2022-06-21] 엘리스 기초알고 5.스택&큐 - 스택 구현하기\n",
    "### 문제설명\n",
    "정수를 저장하는 stack 구현하기\n",
    "\n",
    "### 이슈\n",
    "문자로 들어오는 입력을 모두 정수 처리하지 않으면 에러 발생\n",
    "```\n",
    " stack.append(int(var.split()[1]))\n",
    "```\n",
    "만약 stack.append(var[2])라고 정수처리 하지 않으면 에러"
   ]
  },
  {
   "cell_type": "markdown",
   "metadata": {},
   "source": [
    "* 제출 코드"
   ]
  },
  {
   "cell_type": "code",
   "execution_count": null,
   "metadata": {},
   "outputs": [],
   "source": [
    "def main():\n",
    "    x = int(input())\n",
    "    stack = []\n",
    "    for i in range(x):\n",
    "    \n",
    "        var = input()\n",
    "        \n",
    "        if var[0] == '1':\n",
    "            stack.append(int(var.split()[1]))\n",
    "            \n",
    "        elif var[0] == '2':        \n",
    "            if len(stack)>0:\n",
    "                stack.pop()\n",
    "                \n",
    "        elif var[0] == '3':        \n",
    "            print(len(stack))\n",
    "            \n",
    "        elif var[0] == '4':\n",
    "            if len(stack)==0:\n",
    "                print(1)\n",
    "            else:\n",
    "                print(0)\n",
    "                \n",
    "        elif var[0] =='5':\n",
    "            if len(stack)==0:\n",
    "                print(-1)\n",
    "            else:\n",
    "                print(stack[-1])\n",
    "            \n",
    "            \n",
    "    \n",
    "    \n",
    "\n",
    "\n",
    "if __name__==\"__main__\":\n",
    "    main()"
   ]
  }
 ],
 "metadata": {
  "kernelspec": {
   "display_name": "Python 3.8.5 64-bit",
   "language": "python",
   "name": "python3"
  },
  "language_info": {
   "codemirror_mode": {
    "name": "ipython",
    "version": 3
   },
   "file_extension": ".py",
   "mimetype": "text/x-python",
   "name": "python",
   "nbconvert_exporter": "python",
   "pygments_lexer": "ipython3",
   "version": "3.8.5"
  },
  "orig_nbformat": 4,
  "vscode": {
   "interpreter": {
    "hash": "0f13a248913a870af0ba2054fe51062beda9d13fb1c3c7d582ccf867b2b153ae"
   }
  }
 },
 "nbformat": 4,
 "nbformat_minor": 2
}
