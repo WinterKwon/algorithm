{
 "cells": [
  {
   "cell_type": "markdown",
   "metadata": {},
   "source": [
    "## [2022-06-21] 엘리스 기초알고 5.스택&큐 - 스택 구현하기\n",
    "### 문제설명\n",
    "정수를 저장하는 stack 구현하기\n",
    "\n",
    "### 이슈\n",
    "문자로 들어오는 입력을 모두 정수 처리하지 않으면 에러 발생\n",
    "```\n",
    " stack.append(int(var.split()[1]))\n",
    "```\n",
    "만약 stack.append(var[2])처럼 정수처리 하지 않으면 에러"
   ]
  },
  {
   "cell_type": "markdown",
   "metadata": {},
   "source": [
    "* 제출 코드"
   ]
  },
  {
   "cell_type": "code",
   "execution_count": null,
   "metadata": {},
   "outputs": [],
   "source": [
    "def main():\n",
    "    x = int(input())\n",
    "    stack = []\n",
    "    for i in range(x):\n",
    "    \n",
    "        var = input()\n",
    "        \n",
    "        if var[0] == '1':\n",
    "            stack.append(int(var.split()[1]))\n",
    "            \n",
    "        elif var[0] == '2':        \n",
    "            if len(stack)>0:\n",
    "                stack.pop()\n",
    "                \n",
    "        elif var[0] == '3':        \n",
    "            print(len(stack))\n",
    "            \n",
    "        elif var[0] == '4':\n",
    "            if len(stack)==0:\n",
    "                print(1)\n",
    "            else:\n",
    "                print(0)\n",
    "                \n",
    "        elif var[0] =='5':\n",
    "            if len(stack)==0:\n",
    "                print(-1)\n",
    "            else:\n",
    "                print(stack[-1])\n",
    "            \n",
    "            \n",
    "    \n",
    "    \n",
    "\n",
    "\n",
    "if __name__==\"__main__\":\n",
    "    main()"
   ]
  },
  {
   "cell_type": "markdown",
   "metadata": {},
   "source": [
    "## 백준 #10828\n",
    "동일 문제\n",
    "> 정수를 저장하는 스택을 구현한 다음, 입력으로 주어지는 명령을 처리하는 프로그램을 작성하시오.\n",
    "\n",
    "명령은 총 다섯 가지이다.\n",
    "\n",
    "- push X: 정수 X를 스택에 넣는 연산이다.  \n",
    "- pop: 스택에서 가장 위에 있는 정수를 빼고, 그 수를 출력한다. 만약 스택에 들어있는 정수가 없는 경우에는 -1을 출력한다.  \n",
    "- size: 스택에 들어있는 정수의 개수를 출력한다.  \n",
    "- empty: 스택이 비어있으면 1, 아니면 0을 출력한다.  \n",
    "- top: 스택의 가장 위에 있는 정수를 출력한다. 만약 스택에 들어있는 정수가 없는 경우에는 -1을 출력한다.  \n",
    "\n",
    "### 입력\n",
    "첫째 줄에 주어지는 명령의 수 N (1 ≤ N ≤ 10,000)이 주어진다. 둘째 줄부터 N개의 줄에는 명령이 하나씩 주어진다.\n",
    "### 출력\n",
    "출력해야하는 명령이 주어질 때마다, 한 줄에 하나씩 출력한다."
   ]
  },
  {
   "cell_type": "code",
   "execution_count": 9,
   "metadata": {},
   "outputs": [],
   "source": [
    "num = int(input())\n",
    "result = []\n",
    "for i in range(num):\n",
    "    var = input().split()\n",
    "    if len(var)==2:\n",
    "        a,b = var\n",
    "    else:\n",
    "        a = var[0]\n",
    "   \n",
    "# print(a,b)\n",
    "    if a == 'push':\n",
    "        result.append(int(b))\n",
    "    elif a == 'top':\n",
    "        if len(result) == 0:\n",
    "            print(-1)\n",
    "        else:\n",
    "            print(result[-1])\n",
    "    elif a == 'pop':\n",
    "        if len(result) == 0:\n",
    "            print(-1)\n",
    "        else:\n",
    "            print(result.pop())\n",
    "    elif a == 'empty':\n",
    "        if len(result) == 0:\n",
    "            print(1)\n",
    "        else:\n",
    "            print(0)\n",
    "    elif a =='size':\n",
    "        print(len(result))\n",
    "\n",
    "    "
   ]
  },
  {
   "cell_type": "markdown",
   "metadata": {},
   "source": [
    "위 코드는 시간 초과  \n",
    "-> sys.stdin.readline() 사용하기\n"
   ]
  },
  {
   "cell_type": "code",
   "execution_count": null,
   "metadata": {},
   "outputs": [],
   "source": [
    "import sys\n",
    "num = int(sys.stdin.readline())\n",
    "result = []\n",
    "for i in range(num):\n",
    "    var = sys.stdin.readline().split()\n",
    "    if len(var)==2:\n",
    "        a,b = var\n",
    "    else:\n",
    "        a = var[0]\n",
    "   \n",
    "# print(a,b)\n",
    "    if a == 'push':\n",
    "        result.append(int(b))\n",
    "    elif a == 'top':\n",
    "        if len(result) == 0:\n",
    "            print(-1)\n",
    "        else:\n",
    "            print(result[-1])\n",
    "    elif a == 'pop':\n",
    "        if len(result) == 0:\n",
    "            print(-1)\n",
    "        else:\n",
    "            print(result.pop())\n",
    "    elif a == 'empty':\n",
    "        if len(result) == 0:\n",
    "            print(1)\n",
    "        else:\n",
    "            print(0)\n",
    "    elif a =='size':\n",
    "        print(len(result))\n",
    "\n",
    "    "
   ]
  },
  {
   "cell_type": "code",
   "execution_count": 4,
   "metadata": {},
   "outputs": [
    {
     "data": {
      "text/plain": [
       "6"
      ]
     },
     "execution_count": 4,
     "metadata": {},
     "output_type": "execute_result"
    }
   ],
   "source": [
    "len('push 1')"
   ]
  },
  {
   "cell_type": "code",
   "execution_count": 5,
   "metadata": {},
   "outputs": [
    {
     "data": {
      "text/plain": [
       "['push']"
      ]
     },
     "execution_count": 5,
     "metadata": {},
     "output_type": "execute_result"
    }
   ],
   "source": [
    "'push'.split()"
   ]
  },
  {
   "cell_type": "code",
   "execution_count": 7,
   "metadata": {},
   "outputs": [
    {
     "data": {
      "text/plain": [
       "['push', '1']"
      ]
     },
     "execution_count": 7,
     "metadata": {},
     "output_type": "execute_result"
    }
   ],
   "source": [
    "'push 1'.split()"
   ]
  },
  {
   "cell_type": "code",
   "execution_count": 14,
   "metadata": {},
   "outputs": [
    {
     "name": "stdout",
     "output_type": "stream",
     "text": [
      "push\n",
      "1\n",
      "['push', '1']\n"
     ]
    }
   ],
   "source": [
    "var = 'push 1'.split()\n",
    "a, b = var\n",
    "print(a)\n",
    "print(b)\n",
    "print(var)"
   ]
  }
 ],
 "metadata": {
  "kernelspec": {
   "display_name": "Python 3.8.5 64-bit",
   "language": "python",
   "name": "python3"
  },
  "language_info": {
   "codemirror_mode": {
    "name": "ipython",
    "version": 3
   },
   "file_extension": ".py",
   "mimetype": "text/x-python",
   "name": "python",
   "nbconvert_exporter": "python",
   "pygments_lexer": "ipython3",
   "version": "3.8.5"
  },
  "orig_nbformat": 4,
  "vscode": {
   "interpreter": {
    "hash": "0f13a248913a870af0ba2054fe51062beda9d13fb1c3c7d582ccf867b2b153ae"
   }
  }
 },
 "nbformat": 4,
 "nbformat_minor": 2
}
