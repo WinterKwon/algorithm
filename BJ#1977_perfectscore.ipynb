{
 "cells": [
  {
   "cell_type": "markdown",
   "metadata": {},
   "source": [
    "# [2022-06-30] 백준 # 1977  🎈완전제곱수\n",
    "### 문제설명\n",
    "M과 N이 주어질 때 M이상 N이하의 자연수 중 완전제곱수인 것을 모두 골라 그 합을 구하고 그 중 최솟값을 찾는 프로그램을 작성하시오. \n",
    "\n",
    "\n",
    "### 문제 풀이\n",
    "완전제곱수 판별함수는 n**0.5의 값을 int로 형변환해도 값이 같다는 점 이용\n",
    "\n",
    "### 문제해결\n",
    "완전제곱수 판별함수를 만들고 범위만큼 for문 돌리기\n",
    "\n",
    "### 시간복잡도\n",
    "\n",
    "\n",
    "### "
   ]
  },
  {
   "cell_type": "code",
   "execution_count": 9,
   "metadata": {},
   "outputs": [],
   "source": [
    "import sys\n",
    "\n",
    "def isSquare (n):\n",
    "    temp = n**0.5\n",
    "    if int(temp) == temp:\n",
    "        return True\n",
    "    else:\n",
    "        return False\n",
    "# a = int(sys.stdin.readline())\n",
    "# b = int(sys.stein.readline())\n",
    "a = int(input())\n",
    "b = int(input())\n",
    "result = []\n",
    "for i in range(a, b+1):\n",
    "    if(isSquare(i) == True):\n",
    "        result.append(i)\n",
    "if len(result) == 0:\n",
    "    print(-1)\n",
    "else:\n",
    "    # result.sort()\n",
    "    print(sum(result))\n",
    "    print(result[0])"
   ]
  },
  {
   "cell_type": "markdown",
   "metadata": {},
   "source": [
    "무슨 이유에선지 vsc에서 sys.stdin.readline()은 무한루프에 빠진다. 입력창 나타나지 않고"
   ]
  },
  {
   "cell_type": "markdown",
   "metadata": {},
   "source": [
    "* 입력 문제 인지 못했을 때 완전제곱수를 다른 방법으로 구해본 것"
   ]
  },
  {
   "cell_type": "code",
   "execution_count": 4,
   "metadata": {},
   "outputs": [
    {
     "name": "stdout",
     "output_type": "stream",
     "text": [
      "245\n",
      "64\n"
     ]
    }
   ],
   "source": [
    "a, b = map(int, input().split())\n",
    "result = []\n",
    "i = 1\n",
    "while i**2 <= b:\n",
    "    if a <= i**2 <= b:\n",
    "        result.append(i**2)\n",
    "    i+= 1\n",
    "if len(result) == 0:\n",
    "    print(-1)\n",
    "else:\n",
    "    print(sum(result))\n",
    "    print(result[0])\n"
   ]
  },
  {
   "cell_type": "code",
   "execution_count": 7,
   "metadata": {},
   "outputs": [
    {
     "name": "stdout",
     "output_type": "stream",
     "text": [
      "True\n"
     ]
    }
   ],
   "source": [
    "w = 4**0.5\n",
    "print(w == 2)"
   ]
  },
  {
   "cell_type": "markdown",
   "metadata": {},
   "source": []
  }
 ],
 "metadata": {
  "kernelspec": {
   "display_name": "Python 3.8.5 64-bit",
   "language": "python",
   "name": "python3"
  },
  "language_info": {
   "codemirror_mode": {
    "name": "ipython",
    "version": 3
   },
   "file_extension": ".py",
   "mimetype": "text/x-python",
   "name": "python",
   "nbconvert_exporter": "python",
   "pygments_lexer": "ipython3",
   "version": "3.8.5"
  },
  "orig_nbformat": 4,
  "vscode": {
   "interpreter": {
    "hash": "0f13a248913a870af0ba2054fe51062beda9d13fb1c3c7d582ccf867b2b153ae"
   }
  }
 },
 "nbformat": 4,
 "nbformat_minor": 2
}
