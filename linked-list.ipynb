{
 "cells": [
  {
   "cell_type": "markdown",
   "metadata": {},
   "source": [
    "## [2022-06-15] 백준 1406 에디터\n",
    "### 문제설명\n",
    "\n",
    ">*조건의 편집기 명령에 따라 명령어 수행 결과 구하기*\n",
    "\n",
    "|   |   |\n",
    "|---|---|\n",
    "|L\t|커서를 왼쪽으로 한 칸 옮김 (커서가 문장의 맨 앞이면 무시됨)|\n",
    "|D\t|커서를 오른쪽으로 한 칸 옮김 (커서가 문장의 맨 뒤이면 무시됨)|\n",
    "|B\t|커서 왼쪽에 있는 문자를 삭제함 (커서가 문장의 맨 앞이면 무시됨) 삭제로 인해 커서는 한 칸 왼쪽으로 이동한 것처럼 나타나지만, 실제로 커서의 오른쪽에 있던 문자는 그대로임|\n",
    "|P$|$라는 문자를 커서 왼쪽에 추가함|\n",
    "|  |  |\n",
    "\n",
    "\n",
    "### 문제 풀이\n",
    "- 사고의 흐름\n",
    "    - 명령어별 함수를 만들어 호출하자\n",
    "    - if ~ elif 이용하자\n",
    "- 이슈\n",
    "    - ✨ 시간복잡도\n",
    "    \n",
    "- 1차시도\n",
    "    - 함수 작성 후 collection이란 딕트로 묶어 입력문자를 key로 이용하려했으나 호출에러\n",
    "    - 함수 내용 부분을 풀어서 for문의 스크립트로 만들었지만 코드 에러\n",
    "   "
   ]
  },
  {
   "cell_type": "code",
   "execution_count": 12,
   "metadata": {},
   "outputs": [],
   "source": [
    "def Lmove():\n",
    "    if index ==0:\n",
    "        return var\n",
    "    else:\n",
    "        index -= 1\n",
    "        return var[index:]\n",
    "\n",
    "def Dmove():\n",
    "    if index == len(var)+1:\n",
    "        return var\n",
    "    else:\n",
    "        index += 1\n",
    "        return var[:index]\n",
    "def Bdelete():\n",
    "    if index == 0:\n",
    "        pass\n",
    "    else:\n",
    "        var.pop(0)\n",
    "    \n"
   ]
  },
  {
   "cell_type": "code",
   "execution_count": 33,
   "metadata": {},
   "outputs": [
    {
     "name": "stdout",
     "output_type": "stream",
     "text": [
      "yx\n"
     ]
    }
   ],
   "source": [
    "\n",
    "var = input()\n",
    "n = int(input())\n",
    "index=len(var)\n",
    "ans = var\n",
    "\n",
    "for i in range(n):\n",
    "    state = input().split()\n",
    "    \n",
    "    if state[0] ==\"L\":\n",
    "        if index ==0:\n",
    "            pass\n",
    "        elif index>0:\n",
    "            index -= 1\n",
    "            ans = ans[:index+1]\n",
    "        else:\n",
    "            ans = ans[:index+1]\n",
    "       \n",
    "    elif state[0] == \"D\":\n",
    "        if index == len(ans)+1:\n",
    "            pass\n",
    "        else:\n",
    "            index += 1\n",
    "            ans = ans[:index+1]\n",
    "    elif state[0] == \"B\":\n",
    "        if index == 0:\n",
    "            pass\n",
    "        else:\n",
    "            index -= 1\n",
    "            ans = ans[:index+1]\n",
    "            \n",
    "            \n",
    "    elif state[0] == \"P\":\n",
    "        additive = state[1]\n",
    "        list_a = list(ans)\n",
    "        list_a.insert(index, additive)\n",
    "        index += 1  \n",
    "        ans = ''.join(list_a)   \n",
    "\n",
    "print(ans)\n"
   ]
  },
  {
   "cell_type": "markdown",
   "metadata": {},
   "source": [
    "* 에러 찾기 과정 print문 출력"
   ]
  },
  {
   "cell_type": "code",
   "execution_count": 45,
   "metadata": {},
   "outputs": [
    {
     "name": "stdout",
     "output_type": "stream",
     "text": [
      "P before :  4\n",
      "ans before :  ['a', 'b', 'c', 'd']\n",
      "ans after : ['a', 'b', 'c', 'd', 'x']\n",
      "P :  5\n",
      "L :  4\n",
      "P before :  4\n",
      "ans before :  ['a', 'b', 'c', 'd', 'x']\n",
      "ans after : ['a', 'b', 'c', 'd', 'y', 'x']\n",
      "P :  5\n",
      "abcdyx\n"
     ]
    }
   ],
   "source": [
    "var = input()\n",
    "n = int(input())\n",
    "index=len(var)\n",
    "ans = list(var)\n",
    "\n",
    "for i in range(n):\n",
    "    state = input().split()\n",
    "    \n",
    "    if state[0] ==\"L\":\n",
    "        if index>0:\n",
    "            index -= 1\n",
    "        elif index ==0:\n",
    "            pass\n",
    "        print('L : ', index)\n",
    "               \n",
    "    elif state[0] == \"D\":\n",
    "        if index == len(var)+1:\n",
    "            pass\n",
    "        else:\n",
    "            index += 1\n",
    "        print('D : ',index)   \n",
    "    elif state[0] == \"B\":\n",
    "        if index == 0:\n",
    "            pass\n",
    "        else:\n",
    "            ans.pop(index)\n",
    "            index -= 1\n",
    "        print('B : ',index)    \n",
    "            \n",
    "    elif state[0] == \"P\":\n",
    "        additive = state[1]\n",
    "        print('P before : ', index)\n",
    "        print('ans before : ', ans)\n",
    "        ans.insert(index, additive)\n",
    "        print('ans after :', ans)\n",
    "        index += 1  \n",
    "        print('P : ',index)\n",
    "\n",
    "print(''.join(ans))"
   ]
  },
  {
   "cell_type": "markdown",
   "metadata": {},
   "source": [
    "### 2차 수정 코드"
   ]
  },
  {
   "cell_type": "code",
   "execution_count": 47,
   "metadata": {},
   "outputs": [
    {
     "name": "stdout",
     "output_type": "stream",
     "text": [
      "abcdyx\n"
     ]
    }
   ],
   "source": [
    "var = input()\n",
    "n = int(input())\n",
    "index=len(var)\n",
    "ans = list(var)\n",
    "\n",
    "for i in range(n):\n",
    "    state = input().split()\n",
    "    \n",
    "    if state[0] ==\"L\":\n",
    "        if index>0:\n",
    "            index -= 1\n",
    "        elif index ==0:\n",
    "            pass\n",
    "      \n",
    "               \n",
    "    elif state[0] == \"D\":\n",
    "        if index == len(var)+1:\n",
    "            pass\n",
    "        else:\n",
    "            index += 1\n",
    "         \n",
    "    elif state[0] == \"B\":\n",
    "        if index == 0:\n",
    "            pass\n",
    "        else:\n",
    "            ans.pop(index)\n",
    "            index -= 1\n",
    "         \n",
    "            \n",
    "    elif state[0] == \"P\":\n",
    "        additive = state[1]\n",
    "       \n",
    "        ans.insert(index, additive)\n",
    "        \n",
    "        index += 1  \n",
    "       \n",
    "\n",
    "print(''.join(ans))"
   ]
  },
  {
   "cell_type": "markdown",
   "metadata": {},
   "source": [
    "위 코드는 시간초과로 실패다\n"
   ]
  },
  {
   "cell_type": "markdown",
   "metadata": {},
   "source": [
    "---\n",
    "아래는 다른 사람 풀이 \n",
    "\n",
    "Oops 역시 시간초과. 심지어 위 코드 보다 더 걸린다"
   ]
  },
  {
   "cell_type": "code",
   "execution_count": 46,
   "metadata": {},
   "outputs": [
    {
     "name": "stdout",
     "output_type": "stream",
     "text": [
      "abcdyx\n"
     ]
    }
   ],
   "source": [
    "var = input()\n",
    "n = int(input())\n",
    "st1 = list(var)\n",
    "st2 = []\n",
    "\n",
    "for _ in range(n):\n",
    "\tcommand = input().split()\n",
    "\tif command[0] == 'L':\n",
    "\t\tif st1:\n",
    "\t\t\tst2.append(st1.pop())\n",
    "            \n",
    "\telif command[0] == 'D':\n",
    "\t\tif st2:\n",
    "\t\t\tst1.append(st2.pop())\n",
    "\n",
    "\telif command[0] == 'B':\n",
    "\t\tif st1:\n",
    "\t\t\tst1.pop()\n",
    "            \n",
    "\telse:\n",
    "\t\tst1.append(command[1])\n",
    "        \n",
    "st1.extend(reversed(st2))\n",
    "print(''.join(st1))"
   ]
  },
  {
   "cell_type": "markdown",
   "metadata": {},
   "source": [
    "---\n",
    "* 문자열 슬라이싱으로 접근\n",
    "\n",
    "- 리스트 조작 보다 문자열 직접 슬라이싱이 시간이 빠르다는 말이 있었으나 아래 코드도 결과적으로 시간 초과"
   ]
  },
  {
   "cell_type": "code",
   "execution_count": 1,
   "metadata": {},
   "outputs": [
    {
     "name": "stdout",
     "output_type": "stream",
     "text": [
      "yxz\n"
     ]
    }
   ],
   "source": [
    "var = input()\n",
    "n = int(input())\n",
    "index=len(var)\n",
    "\n",
    "\n",
    "for i in range(n):\n",
    "    state = input().split()\n",
    "    \n",
    "    if state[0] ==\"L\":\n",
    "        if index>0:\n",
    "            index -= 1\n",
    "        elif index ==0:\n",
    "            pass\n",
    "      \n",
    "               \n",
    "    elif state[0] == \"D\":\n",
    "        if index == len(var)+1:\n",
    "            pass\n",
    "        else:\n",
    "            index += 1\n",
    "         \n",
    "    elif state[0] == \"B\":\n",
    "        if index == 0:\n",
    "            pass\n",
    "        else:\n",
    "            var = var[:index-1] + var[index:]\n",
    "            index -= 1\n",
    "         \n",
    "            \n",
    "    elif state[0] == \"P\":\n",
    "        additive = state[1]\n",
    "       \n",
    "        var = var[:index] +additive + var[index:]\n",
    "        \n",
    "        index += 1  \n",
    "       \n",
    "\n",
    "print(var)"
   ]
  },
  {
   "cell_type": "markdown",
   "metadata": {},
   "source": [
    "## 솔루션\n",
    "\n",
    "    스택 두 개로 나누어 pop, append 연산하고 합치기\n",
    "\n",
    "시간복잡도\n",
    "\n",
    "|함수 |시간복잡도 |\n",
    "|---|---|\n",
    "|append()|O(1)|\n",
    "|pop()|O(1)|\n",
    "|insert()|O(N)|"
   ]
  },
  {
   "cell_type": "code",
   "execution_count": 53,
   "metadata": {},
   "outputs": [
    {
     "name": "stdout",
     "output_type": "stream",
     "text": [
      "abcdyx\n"
     ]
    }
   ],
   "source": [
    "stackL = list(input())\n",
    "n = int(input())\n",
    "stackR = []\n",
    "\n",
    "for i in range(n):\n",
    "    command = sys.stdin.readline().split()\n",
    "    if command[0] == \"L\" and stackL:\n",
    "        stackR.append(stackL.pop())\n",
    "    elif command[0] == 'D' and stackR:\n",
    "        stackL.append(stackR.pop())\n",
    "    elif command[0]=='B' and stackL:\n",
    "        stackL.pop()\n",
    "    elif command[0]=='P':\n",
    "        stackL.append(command[1])\n",
    "print(''.join(stackL + list(reversed(stackR))))"
   ]
  },
  {
   "cell_type": "markdown",
   "metadata": {},
   "source": [
    "---\n",
    "입력을 모두 input()으로"
   ]
  },
  {
   "cell_type": "code",
   "execution_count": null,
   "metadata": {},
   "outputs": [],
   "source": [
    "import sys\n",
    "\n",
    "stack_l = list(input())\n",
    "stack_r = []\n",
    "n = int(input())\n",
    "\n",
    "for i in range(n):\n",
    "    command =input().split()\n",
    "\n",
    "    if command[0] == \"L\" and stack_l:\n",
    "        stack_r.append(stack_l.pop())\n",
    "    elif command[0] == \"D\" and stack_r:\n",
    "        stack_l.append(stack_r.pop())\n",
    "    elif command[0] == \"B\" and stack_l:\n",
    "        stack_l.pop()\n",
    "    elif command[0] == \"P\":\n",
    "        stack_l.append(command[1])\n",
    "\n",
    "print(\"\".join(stack_l + list(reversed(stack_r))))"
   ]
  },
  {
   "cell_type": "markdown",
   "metadata": {},
   "source": [
    "-> 시간 초과.."
   ]
  },
  {
   "cell_type": "markdown",
   "metadata": {},
   "source": [
    "## input과 sys.stdin.readline의 차이점\n",
    "일단 sys.stdin.readline()과 input()은 같은 역할을 하지 않는다.\n",
    "\n",
    " \n",
    "\n",
    "> input() 내장 함수는 parameter로 prompt message를 받을 수 있다. 따라서 입력받기 전 prompt message를 출력해야 한다. 물론 prompt message가 없는 경우도 있지만, 이 경우도 약간의 부하로 작용할 수 있다. 하지만, sys.stdin.readline()은 prompt message를 인수로 받지 않는다.\n",
    "\n",
    " \n",
    "\n",
    "> 또한, input() 내장 함수는 입력받은 값의 개행 문자를 삭제시켜서 리턴한다. 즉 입력받은 문자열에 rstrip() 함수를 적용시켜서 리턴한다. 반면에 sys.stdin.readline()은 개행 문자를 포함한 값을 리턴한다. "
   ]
  },
  {
   "cell_type": "markdown",
   "metadata": {},
   "source": [
    "---\n",
    "* readline 이면서 리스트 - 시간초과"
   ]
  },
  {
   "cell_type": "code",
   "execution_count": null,
   "metadata": {},
   "outputs": [],
   "source": [
    "import sys\n",
    "var = sys.stdin.readline().rstrip()\n",
    "n = int(sys.stdin.readline().rstrip())\n",
    "index=len(var)\n",
    "ans = list(var)\n",
    "\n",
    "for i in range(n):\n",
    "    state = sys.stdin.readline().split()\n",
    "    \n",
    "    if state[0] ==\"L\":\n",
    "        if index>0:\n",
    "            index -= 1\n",
    "        elif index ==0:\n",
    "            pass\n",
    "      \n",
    "               \n",
    "    elif state[0] == \"D\":\n",
    "        if index == len(var)+1:\n",
    "            pass\n",
    "        else:\n",
    "            index += 1\n",
    "         \n",
    "    elif state[0] == \"B\":\n",
    "        if index == 0:\n",
    "            pass\n",
    "        else:\n",
    "            ans.pop(index)\n",
    "            index -= 1\n",
    "         \n",
    "            \n",
    "    elif state[0] == \"P\":\n",
    "        additive = state[1]\n",
    "       \n",
    "        ans.insert(index, additive)\n",
    "        \n",
    "        index += 1  \n",
    "       \n",
    "\n",
    "print(''.join(ans))"
   ]
  },
  {
   "cell_type": "markdown",
   "metadata": {},
   "source": [
    "* 스택방식이면서 input() - 시간초과"
   ]
  },
  {
   "cell_type": "code",
   "execution_count": null,
   "metadata": {},
   "outputs": [],
   "source": [
    "\n",
    "stackL = list(input())\n",
    "n = int(input())\n",
    "stackR = []\n",
    "\n",
    "for i in range(n):\n",
    "    command = input().split()\n",
    "    if command[0] == \"L\" and stackL:\n",
    "        stackR.append(stackL.pop())\n",
    "    elif command[0] == 'D' and stackR:\n",
    "        stackL.append(stackR.pop())\n",
    "    elif command[0]=='B' and stackL:\n",
    "        stackL.pop()\n",
    "    elif command[0]=='P':\n",
    "        stackL.append(command[1])\n",
    "print(''.join(stackL + list(reversed(stackR))))"
   ]
  },
  {
   "cell_type": "markdown",
   "metadata": {},
   "source": [
    "###  스택방식이면서 readline() - 통과\n",
    "* 단순 입력은 input()과 큰 차이가 없는 듯\n",
    "* for문에서 연산 거쳐야 하는 부분에선 input() 호출시 무조건 시간초과\n"
   ]
  },
  {
   "cell_type": "code",
   "execution_count": null,
   "metadata": {},
   "outputs": [],
   "source": [
    "import sys\n",
    "stackL = list(sys.stdin.readline().rstrip())\n",
    "n = int(input())\n",
    "stackR = []\n",
    "\n",
    "for i in range(n):\n",
    "    command = sys.stdin.readline().split()\n",
    "    if command[0] == \"L\" and stackL:\n",
    "        stackR.append(stackL.pop())\n",
    "    elif command[0] == 'D' and stackR:\n",
    "        stackL.append(stackR.pop())\n",
    "    elif command[0]=='B' and stackL:\n",
    "        stackL.pop()\n",
    "    elif command[0]=='P':\n",
    "        stackL.append(command[1])\n",
    "print(''.join(stackL + list(reversed(stackR))))"
   ]
  },
  {
   "cell_type": "markdown",
   "metadata": {},
   "source": [
    "* 리스트면서 readline() - 시간초과"
   ]
  },
  {
   "cell_type": "code",
   "execution_count": null,
   "metadata": {},
   "outputs": [],
   "source": [
    "import sys\n",
    "var = sys.stdin.readline()\n",
    "n = int(sys.stdin.readline())\n",
    "index=len(var)\n",
    "ans = list(var)\n",
    "\n",
    "for i in range(n):\n",
    "    state = sys.stdin.readline().split()\n",
    "    \n",
    "    if state[0] ==\"L\":\n",
    "        if index>0:\n",
    "            index -= 1\n",
    "        elif index ==0:\n",
    "            pass\n",
    "      \n",
    "               \n",
    "    elif state[0] == \"D\":\n",
    "        if index == len(var)+1:\n",
    "            pass\n",
    "        else:\n",
    "            index += 1\n",
    "         \n",
    "    elif state[0] == \"B\":\n",
    "        if index == 0:\n",
    "            pass\n",
    "        else:\n",
    "            ans.pop(index)\n",
    "            index -= 1\n",
    "         \n",
    "            \n",
    "    elif state[0] == \"P\":\n",
    "        additive = state[1]\n",
    "       \n",
    "        ans.insert(index, additive)\n",
    "        \n",
    "        index += 1  \n",
    "       \n",
    "\n",
    "print(''.join(ans))"
   ]
  },
  {
   "cell_type": "markdown",
   "metadata": {},
   "source": [
    "* readline()이면서 문자열\n",
    "\n",
    "vsc에선 테스트했을때 정답이 나오는데 시간초과일줄 알았더니 오답으로 처리된다\n"
   ]
  },
  {
   "cell_type": "code",
   "execution_count": 1,
   "metadata": {},
   "outputs": [],
   "source": [
    "import sys\n",
    "var = sys.stdin.readline()\n",
    "n = int(sys.stdin.readline())\n",
    "index=len(var)\n",
    "\n",
    "\n",
    "for i in range(n):\n",
    "    state = sys.stdin.readline().split()\n",
    "    \n",
    "    if state[0] ==\"L\":\n",
    "        if index>0:\n",
    "            index -= 1\n",
    "        elif index ==0:\n",
    "            pass\n",
    "      \n",
    "               \n",
    "    elif state[0] == \"D\":\n",
    "        if index == len(var)+1:\n",
    "            pass\n",
    "        else:\n",
    "            index += 1\n",
    "         \n",
    "    elif state[0] == \"B\":\n",
    "        if index == 0:\n",
    "            pass\n",
    "        else:\n",
    "            var = var[:index-1] + var[index:]\n",
    "            index -= 1\n",
    "         \n",
    "            \n",
    "    elif state[0] == \"P\":\n",
    "        additive = state[1]\n",
    "       \n",
    "        var = var[:index] +additive + var[index:]\n",
    "        \n",
    "        index += 1  \n",
    "       \n",
    "\n",
    "print(var)"
   ]
  },
  {
   "cell_type": "code",
   "execution_count": null,
   "metadata": {},
   "outputs": [],
   "source": []
  }
 ],
 "metadata": {
  "interpreter": {
   "hash": "0f13a248913a870af0ba2054fe51062beda9d13fb1c3c7d582ccf867b2b153ae"
  },
  "kernelspec": {
   "display_name": "Python 3.8.5 64-bit",
   "language": "python",
   "name": "python3"
  },
  "language_info": {
   "codemirror_mode": {
    "name": "ipython",
    "version": 3
   },
   "file_extension": ".py",
   "mimetype": "text/x-python",
   "name": "python",
   "nbconvert_exporter": "python",
   "pygments_lexer": "ipython3",
   "version": "3.8.5"
  },
  "orig_nbformat": 4
 },
 "nbformat": 4,
 "nbformat_minor": 2
}
