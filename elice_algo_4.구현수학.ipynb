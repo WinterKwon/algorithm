{
 "cells": [
  {
   "cell_type": "markdown",
   "metadata": {},
   "source": [
    "## [2022-06-20] 엘리스 기초알고 4.구현 수학 - 이과의 전투력\n",
    "### 문제설명\n",
    "\n",
    "두 학생 A와 B의 (수학, 과학) 점수가 각각 (x, y), (i, j)라고 할 때,\n",
    "\n",
    "“$x>i$ 이고 $y>j$ 이면 A는 B보다 강하다”\n",
    "\n",
    "학생의 등수는 자신보다 강한 사람의 수로 정해진다.\n",
    "\n",
    "자신보다 강한 사람의 수가 k명이라면 자신의 등수는 k+1등이 된다.\n",
    "\n",
    "학생 N명의 수학, 과학 점수를 입력받아서 각 학생의 등수를 계산하는 프로그램을 작성하시오.\n",
    "\n",
    "### 입력\n",
    "\n",
    "- 첫 줄에는 전체 학생의 수 N을 입력합니다.\n",
    "- 두 번째 줄부터 N개의 줄에 걸쳐 각 학생의 수학 점수와 과학 점수를 나타내는 양의 정수 x와 y를 하나의 공백을 두고 각각 입력합니다.\n",
    "\n",
    "### 이슈\n",
    "\n",
    "1. 입력의 점수(문자열로 들어옴)를 숫자형 튜플로 배열에 담기 → map 이용\n",
    "2. 배열의 한 요소를 다른 요소와 모두 비교하기 → \n",
    "    1. for 문 한번으로 i 번째와 i + 1번째 요소를 비교할 수 없음\n",
    "    2. 이중 for문으로 하면서 두번째 for문의 범위를 i+1부터 시작하는 걸로\n",
    "\n",
    "### 문제해결\n",
    "\n",
    "1. 배열의 한 요소가 비교 요소보다 (수학, 과학) 점수가 모두 높다면 비교요소의 등수 +1\n",
    "2. 배열의 한 요소가 비교 요소보다 (수학, 과학) 점수가 모두 낮다면 해당요소의 등수 +1"
   ]
  },
  {
   "cell_type": "code",
   "execution_count": null,
   "metadata": {},
   "outputs": [],
   "source": [
    "num = int(input())\n",
    "scores = []\n",
    "for i in range(num):\n",
    "    a,b = map(int,input().split())\n",
    "    scores.append((a,b))\n",
    "    # print(scores)\n",
    "\n",
    "rank = [1 for i in range(num)]\n",
    "\n",
    "for i in range(num):\n",
    "    for j in range(i+1, num):\n",
    "        if (scores[i][0] > scores[j][0]) and (scores[i][1] > scores[j][1]):\n",
    "            rank[j] += 1\n",
    "        elif (scores[i][0] < scores[j][0]) and (scores[i][1] < scores[j][1]):\n",
    "            rank[i] += 1\n",
    "print(*rank)"
   ]
  },
  {
   "cell_type": "markdown",
   "metadata": {},
   "source": [
    "## [2022-06-21] 엘리스 기초알고 4.구현 수학 - 떡 먹은 떡만이\n",
    "\n",
    "### 문제 설명\n",
    "세쌍둥이 떡만이들 중 1번 떡만이가 떡을 먹었다. 두 자리를 골라 서로 위치를 M번 바꾼다고 할때 떡 먹은 떡만이를 찾는 프로그램을 작성하시오\n",
    "> 두 사람이 자리를 반복해서 바꿀 때, 처음 1번 자리에 앉아있던 떡만이의 마지막 위치를 찾는 문제\n",
    "\n",
    "### 문제 해결\n",
    "입력으로 들어오는 위치에 떡 먹은 1번 떡만이의 위치가 들어가 있다면 스위칭\n",
    "\n",
    "### 이슈\n",
    "    별다른 이슈 없음\n",
    "    특별한 자료 구조도 없음\n",
    "\n"
   ]
  },
  {
   "cell_type": "code",
   "execution_count": null,
   "metadata": {},
   "outputs": [],
   "source": [
    "num = int(input())\n",
    "dd = 1\n",
    "for i in range(num):\n",
    "    a, b = map(int, input().split())\n",
    "    if dd == a:\n",
    "        dd = b\n",
    "    elif dd == b:\n",
    "        dd = a\n",
    "print(dd)"
   ]
  }
 ],
 "metadata": {
  "kernelspec": {
   "display_name": "Python 3.8.5 64-bit",
   "language": "python",
   "name": "python3"
  },
  "language_info": {
   "codemirror_mode": {
    "name": "ipython",
    "version": 3
   },
   "file_extension": ".py",
   "mimetype": "text/x-python",
   "name": "python",
   "nbconvert_exporter": "python",
   "pygments_lexer": "ipython3",
   "version": "3.8.5"
  },
  "orig_nbformat": 4,
  "vscode": {
   "interpreter": {
    "hash": "0f13a248913a870af0ba2054fe51062beda9d13fb1c3c7d582ccf867b2b153ae"
   }
  }
 },
 "nbformat": 4,
 "nbformat_minor": 2
}
