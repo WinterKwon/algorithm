{
 "cells": [
  {
   "cell_type": "markdown",
   "metadata": {},
   "source": [
    "## 언패킹(Unpacking)\n",
    "*연산자 붙여 리스트나 딕트안의 요소 나열"
   ]
  },
  {
   "cell_type": "code",
   "execution_count": 1,
   "metadata": {},
   "outputs": [
    {
     "name": "stdout",
     "output_type": "stream",
     "text": [
      "4 0 7 8 9 9 2 3 1 1 5 5 3 5 5 6 2 5 6 1 1 4 2 3 2 2 4 2 3 2 5 5 0 3 3 6 8 5 4 4\n"
     ]
    }
   ],
   "source": [
    "v = '4078992311553556256114232242325503368544'\n",
    "print(*v)"
   ]
  },
  {
   "cell_type": "code",
   "execution_count": 3,
   "metadata": {},
   "outputs": [
    {
     "name": "stdout",
     "output_type": "stream",
     "text": [
      "4 0 7 8 9 9 2 3 1\n"
     ]
    }
   ],
   "source": [
    "n = [4, 0, 7,8,9,9,2,3,1]\n",
    "print(*n)"
   ]
  },
  {
   "cell_type": "code",
   "execution_count": 8,
   "metadata": {},
   "outputs": [
    {
     "name": "stdout",
     "output_type": "stream",
     "text": [
      "a b c d\n"
     ]
    }
   ],
   "source": [
    "s = 'abcd'\n",
    "print(*s)"
   ]
  },
  {
   "cell_type": "code",
   "execution_count": 9,
   "metadata": {},
   "outputs": [
    {
     "name": "stdout",
     "output_type": "stream",
     "text": [
      "abcd\n",
      "a b c d\n"
     ]
    }
   ],
   "source": [
    "s2 = ['a', 'b', 'c', 'd']\n",
    "print(''.join(s2))\n",
    "print(*s2)"
   ]
  },
  {
   "cell_type": "code",
   "execution_count": null,
   "metadata": {},
   "outputs": [],
   "source": []
  }
 ],
 "metadata": {
  "interpreter": {
   "hash": "0f13a248913a870af0ba2054fe51062beda9d13fb1c3c7d582ccf867b2b153ae"
  },
  "kernelspec": {
   "display_name": "Python 3.8.5 64-bit",
   "language": "python",
   "name": "python3"
  },
  "language_info": {
   "codemirror_mode": {
    "name": "ipython",
    "version": 3
   },
   "file_extension": ".py",
   "mimetype": "text/x-python",
   "name": "python",
   "nbconvert_exporter": "python",
   "pygments_lexer": "ipython3",
   "version": "3.8.5"
  },
  "orig_nbformat": 4
 },
 "nbformat": 4,
 "nbformat_minor": 2
}
