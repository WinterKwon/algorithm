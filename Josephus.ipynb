{
 "cells": [
  {
   "cell_type": "markdown",
   "metadata": {},
   "source": [
    "## [2022-06-13] 백준 # 1158 요세푸스 순열\n",
    "### 문제설명\n",
    "\n",
    "> 1번부터 N번까지 N명의 사람이 원을 이루면서 앉아있고, 양의 정수 K(≤ N)가 주어진다. 이제 순서대로 K번째 사람을 제거해 N명이 모두 제거될때까지 계속한다. 원에서 사람들이 제거되는 순서를 (N, K)-요세푸스 순열이라고 한다. \n",
    "\n",
    "### 입력\n",
    "\n",
    "첫째 줄에 N과 K가 빈 칸을 사이에 두고 순서대로 주어진다. (1 ≤ K ≤ N ≤ 5,000)\n",
    "\n",
    "### 출력\n",
    "\n",
    "예를 들어 (7, 3)의 요세푸스 순열은 <3, 6, 2, 7, 5, 1, 4>이다.\n",
    "\n",
    "### 이슈\n",
    "\n",
    "- 리스트로 접근할 것인가 \n",
    "    - 연결리스트는 파이썬 클래스로 직접 만들어야 함\n",
    "    - index를 이용    \n",
    "<br>\n",
    "   \n",
    "- deque로 접근할 것인가 - collections 라이브러리 이용 가능\n",
    "- 각 경우의 시간복잡도는 어떻게 되는가?  \n",
    "\n",
    "\n",
    "\n",
    "\n",
    "\n",
    "시간복잡도\n",
    "\n",
    "- 일반 리스트 - O(n)\n",
    "- deque - O(1)\n",
    "\n"
   ]
  },
  {
   "cell_type": "markdown",
   "metadata": {},
   "source": [
    "### 문제해결 1. 리스트 index 이용\n",
    "백준 기준 120mx 소요"
   ]
  },
  {
   "cell_type": "code",
   "execution_count": 28,
   "metadata": {},
   "outputs": [
    {
     "name": "stdout",
     "output_type": "stream",
     "text": [
      "<3, 6, 2, 7, 5, 1, 4>\n"
     ]
    }
   ],
   "source": [
    "n, k = map(int, input().split())\n",
    "\n",
    "people = [i for i in range(1,n+1)]\n",
    "result = []\n",
    "index = 0\n",
    "\n",
    "while people:\n",
    "    index = (index + k - 1) % len(people)\n",
    "    # print('index : ', index)\n",
    "    # print('length : ', len(people))\n",
    "    result.append(str(people.pop(index)))\n",
    "# print(result)\n",
    "print('<' + ', '.join(result) + '>')\n",
    "\n"
   ]
  },
  {
   "cell_type": "markdown",
   "metadata": {},
   "source": [
    "### 문제해결 2.deque\n",
    "\n",
    "deque는 양방향 큐로 *앞, 뒤 양쪽 방향에서 엘리먼트(element)를 추가하거나 제거할 수 있다.*\n",
    "\n",
    "append()와 pop()이 압도적으로 빠르다고 한다.   \n",
    "\n",
    "백준 제출 기준 416ms 소요"
   ]
  },
  {
   "cell_type": "code",
   "execution_count": 22,
   "metadata": {},
   "outputs": [
    {
     "name": "stdout",
     "output_type": "stream",
     "text": [
      "[3, 6, 2, 7, 5, 1, 4]\n"
     ]
    }
   ],
   "source": [
    "from collections import deque\n",
    "\n",
    "n, k = map(int, input().split())\n",
    "\n",
    "circle = deque(range(1, n+1))\n",
    "result = []\n",
    "\n",
    "while circle:\n",
    "    for i in range(k-1):\n",
    "        circle.append(circle.popleft())\n",
    "    result.append(circle.popleft())\n",
    "\n",
    "# print(result)\n",
    "print('<'+ ', '.join(map(str, result))+'>')"
   ]
  },
  {
   "cell_type": "code",
   "execution_count": null,
   "metadata": {},
   "outputs": [],
   "source": [
    "print(str(result).replace('[', '<').replace(']', '>'))"
   ]
  },
  {
   "cell_type": "markdown",
   "metadata": {},
   "source": [
    "### 정리\n",
    "일반적으로 deque의 연산속도가 더 빠르다.  \n",
    "그러나 리스트를 순회하는 방식이 아닌 index 접근 방식은 deque보다 더 빠르다!  \n",
    "둘 다 시간 복잡도는 O(1)"
   ]
  }
 ],
 "metadata": {
  "kernelspec": {
   "display_name": "Python 3.8.5 64-bit",
   "language": "python",
   "name": "python3"
  },
  "language_info": {
   "codemirror_mode": {
    "name": "ipython",
    "version": 3
   },
   "file_extension": ".py",
   "mimetype": "text/x-python",
   "name": "python",
   "nbconvert_exporter": "python",
   "pygments_lexer": "ipython3",
   "version": "3.8.5"
  },
  "orig_nbformat": 4,
  "vscode": {
   "interpreter": {
    "hash": "0f13a248913a870af0ba2054fe51062beda9d13fb1c3c7d582ccf867b2b153ae"
   }
  }
 },
 "nbformat": 4,
 "nbformat_minor": 2
}
