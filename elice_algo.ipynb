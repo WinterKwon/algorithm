{
 "cells": [
  {
   "cell_type": "code",
   "execution_count": 5,
   "metadata": {},
   "outputs": [
    {
     "data": {
      "text/plain": [
       "[1, 9, 8, 5, 2, 3, 5, 6, 2, 10]"
      ]
     },
     "execution_count": 5,
     "metadata": {},
     "output_type": "execute_result"
    }
   ],
   "source": [
    "myInput = [int(x) for x in \"1 9 8 5 2 3 5 6 2 10\".split()]\n",
    "myInput"
   ]
  },
  {
   "cell_type": "code",
   "execution_count": 3,
   "metadata": {},
   "outputs": [
    {
     "data": {
      "text/plain": [
       "['1', '9', '8', '5', '2', '3', '5', '6', '2', '10']"
      ]
     },
     "execution_count": 3,
     "metadata": {},
     "output_type": "execute_result"
    }
   ],
   "source": [
    "input = \"1 9 8 5 2 3 5 6 2 10\"\n",
    "input.split()"
   ]
  },
  {
   "cell_type": "markdown",
   "metadata": {},
   "source": [
    "### 제출코드\n",
    "\n",
    "myInput 길이가 실행시마다 달라져야하는 부분 주의하기"
   ]
  },
  {
   "cell_type": "code",
   "execution_count": null,
   "metadata": {},
   "outputs": [],
   "source": [
    "def findKth(myInput, k) :\n",
    "    '''\n",
    "    매 순간마다 k번째로 작은 원소를 리스트로 반환합니다.\n",
    "    '''\n",
    "\n",
    "    result = []\n",
    "    \n",
    "    for i in range(len(myInput)):\n",
    "        temp = myInput[:i+1]\n",
    "        if len(temp) < k:\n",
    "            result.append(-1)\n",
    "        else:\n",
    "            temp.sort()\n",
    "            result.append(temp[k-1])\n",
    "\n",
    "    return result\n",
    "\n",
    "def main():\n",
    "    '''\n",
    "    테스트를 하고싶으면, 아래 부분을 수정합니다.\n",
    "    '''\n",
    "\n",
    "    firstLine = [int(x) for x in input().split()]\n",
    "    myInput = [int(x) for x in input().split()]\n",
    "    # myInput = [int(x) for x in \"1 9 8 5 2 3\".split()]\n",
    "    # firstLine = [int(x) for x in \"10 3\".split()]\n",
    "\n",
    "    print(*findKth(myInput, firstLine[1]))\n",
    "if __name__ == \"__main__\":\n",
    "    main()"
   ]
  }
 ],
 "metadata": {
  "interpreter": {
   "hash": "37317e2bdf3cb8304853a1d761b75118a94e102a6e863caf393056ac48b761db"
  },
  "kernelspec": {
   "display_name": "Python 3.8.5 64-bit",
   "language": "python",
   "name": "python3"
  },
  "language_info": {
   "codemirror_mode": {
    "name": "ipython",
    "version": 3
   },
   "file_extension": ".py",
   "mimetype": "text/x-python",
   "name": "python",
   "nbconvert_exporter": "python",
   "pygments_lexer": "ipython3",
   "version": "3.8.5"
  },
  "orig_nbformat": 4
 },
 "nbformat": 4,
 "nbformat_minor": 2
}
