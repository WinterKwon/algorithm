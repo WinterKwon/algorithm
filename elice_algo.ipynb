{
 "cells": [
  {
   "cell_type": "markdown",
   "metadata": {},
   "source": [
    "## 1. k번째로 작은 수\n",
    "\n",
    "n개의 숫자가 차례대로 주어질 때, 매 순간마다 “지금까지 입력된 숫자들 중에서 k번째로 작은 수”를 반환하는 프로그램을 작성하세요.\n",
    "\n",
    "프로그램의 입력으로는 첫째줄에 n과 k가 입력되고, 둘째줄에 n개의 숫자가 차례대로 주어집니다."
   ]
  },
  {
   "cell_type": "code",
   "execution_count": 5,
   "metadata": {},
   "outputs": [
    {
     "data": {
      "text/plain": [
       "[1, 9, 8, 5, 2, 3, 5, 6, 2, 10]"
      ]
     },
     "execution_count": 5,
     "metadata": {},
     "output_type": "execute_result"
    }
   ],
   "source": [
    "myInput = [int(x) for x in \"1 9 8 5 2 3 5 6 2 10\".split()]\n",
    "myInput"
   ]
  },
  {
   "cell_type": "code",
   "execution_count": 3,
   "metadata": {},
   "outputs": [
    {
     "data": {
      "text/plain": [
       "['1', '9', '8', '5', '2', '3', '5', '6', '2', '10']"
      ]
     },
     "execution_count": 3,
     "metadata": {},
     "output_type": "execute_result"
    }
   ],
   "source": [
    "input = \"1 9 8 5 2 3 5 6 2 10\"\n",
    "input.split()"
   ]
  },
  {
   "cell_type": "markdown",
   "metadata": {},
   "source": [
    "### 제출코드\n",
    "\n",
    "myInput 길이가 실행시마다 달라져야하는 부분 주의하기"
   ]
  },
  {
   "cell_type": "code",
   "execution_count": null,
   "metadata": {},
   "outputs": [],
   "source": [
    "def findKth(myInput, k) :\n",
    "    '''\n",
    "    매 순간마다 k번째로 작은 원소를 리스트로 반환합니다.\n",
    "    '''\n",
    "\n",
    "    result = []\n",
    "    \n",
    "    for i in range(len(myInput)):\n",
    "        temp = myInput[:i+1]\n",
    "        if len(temp) < k:\n",
    "            result.append(-1)\n",
    "        else:\n",
    "            temp.sort()\n",
    "            result.append(temp[k-1])\n",
    "\n",
    "    return result\n",
    "\n",
    "def main():\n",
    "    '''\n",
    "    테스트를 하고싶으면, 아래 부분을 수정합니다.\n",
    "    '''\n",
    "\n",
    "    firstLine = [int(x) for x in input().split()]\n",
    "    myInput = [int(x) for x in input().split()]\n",
    "    # myInput = [int(x) for x in \"1 9 8 5 2 3\".split()]\n",
    "    # firstLine = [int(x) for x in \"10 3\".split()]\n",
    "\n",
    "    print(*findKth(myInput, firstLine[1]))\n",
    "if __name__ == \"__main__\":\n",
    "    main()"
   ]
  },
  {
   "cell_type": "markdown",
   "metadata": {},
   "source": [
    "## 2. 이진수 변환 \n",
    "10진수를 2진수로 변환하여 출력하는 프로그램을 작성하세요. 단, 재귀호출을 이용하여 작성합니다."
   ]
  },
  {
   "cell_type": "markdown",
   "metadata": {},
   "source": [
    "import sys\n",
    "sys.setrecursionlimit(100000)\n",
    "\n",
    "def convertBinary(n) :\n",
    "    '''\n",
    "    10진수 n을 2진수로 변환하여 반환합니다.\n",
    "\n",
    "    *주의* : 변환된 2진수는 문자열이어야 합니다.\n",
    "\n",
    "    예를 들어, 19가 입력될 경우 문자열 \"10011\"이 반환되어야 합니다.\n",
    "    '''\n",
    "\n",
    "    return \"0\"\n",
    "\n",
    "def main():\n",
    "    '''\n",
    "    이 부분은 수정하지 마세요.\n",
    "    '''\n",
    "\n",
    "\n",
    "    n = int(input())\n",
    "\n",
    "    print(convertBinary(n))\n",
    "\n",
    "if __name__ == \"__main__\":\n",
    "    main()"
   ]
  },
  {
   "cell_type": "code",
   "execution_count": 6,
   "metadata": {},
   "outputs": [
    {
     "data": {
      "text/plain": [
       "1"
      ]
     },
     "execution_count": 6,
     "metadata": {},
     "output_type": "execute_result"
    }
   ],
   "source": [
    "result = ''\n",
    "19%2"
   ]
  },
  {
   "cell_type": "code",
   "execution_count": 7,
   "metadata": {},
   "outputs": [
    {
     "data": {
      "text/plain": [
       "9"
      ]
     },
     "execution_count": 7,
     "metadata": {},
     "output_type": "execute_result"
    }
   ],
   "source": [
    "19//2"
   ]
  },
  {
   "cell_type": "code",
   "execution_count": 10,
   "metadata": {},
   "outputs": [
    {
     "data": {
      "text/plain": [
       "'11001'"
      ]
     },
     "execution_count": 10,
     "metadata": {},
     "output_type": "execute_result"
    }
   ],
   "source": [
    "n = 19\n",
    "result = ''\n",
    "while n >= 1:\n",
    "    result += str(n %2)\n",
    "    n = n // 2\n",
    "result"
   ]
  },
  {
   "cell_type": "code",
   "execution_count": 12,
   "metadata": {},
   "outputs": [
    {
     "data": {
      "text/plain": [
       "'10011'"
      ]
     },
     "execution_count": 12,
     "metadata": {},
     "output_type": "execute_result"
    }
   ],
   "source": [
    "result[::-1]"
   ]
  },
  {
   "cell_type": "markdown",
   "metadata": {},
   "source": [
    "### 제출 코드 "
   ]
  },
  {
   "cell_type": "code",
   "execution_count": null,
   "metadata": {},
   "outputs": [],
   "source": [
    "import sys\n",
    "sys.setrecursionlimit(100000)\n",
    "\n",
    "def convertBinary(n) :\n",
    "    '''\n",
    "    10진수 n을 2진수로 변환하여 반환합니다.\n",
    "\n",
    "    *주의* : 변환된 2진수는 문자열이어야 합니다.\n",
    "\n",
    "    예를 들어, 19가 입력될 경우 문자열 \"10011\"이 반환되어야 합니다.\n",
    "    \n",
    "    '''\n",
    "    result = ''\n",
    "    while n >= 1:\n",
    "        result += str(n%2)\n",
    "        n = n//2\n",
    "\n",
    "    return result[::-1]\n",
    "\n",
    "def main():\n",
    "    '''\n",
    "    이 부분은 수정하지 마세요.\n",
    "    '''\n",
    "\n",
    "\n",
    "    n = int(input())\n",
    "\n",
    "    print(convertBinary(n))\n",
    "\n",
    "if __name__ == \"__main__\":\n",
    "    main()"
   ]
  }
 ],
 "metadata": {
  "interpreter": {
   "hash": "37317e2bdf3cb8304853a1d761b75118a94e102a6e863caf393056ac48b761db"
  },
  "kernelspec": {
   "display_name": "Python 3.8.5 64-bit",
   "language": "python",
   "name": "python3"
  },
  "language_info": {
   "codemirror_mode": {
    "name": "ipython",
    "version": 3
   },
   "file_extension": ".py",
   "mimetype": "text/x-python",
   "name": "python",
   "nbconvert_exporter": "python",
   "pygments_lexer": "ipython3",
   "version": "3.8.5"
  },
  "orig_nbformat": 4
 },
 "nbformat": 4,
 "nbformat_minor": 2
}
