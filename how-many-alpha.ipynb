{
 "cells": [
  {
   "cell_type": "markdown",
   "metadata": {},
   "source": [
    "## [2022-06-14] 백준 #10808 알파벳 갯수\n",
    "\n",
    "### 문제설명\n",
    "\n",
    ">*알파벳 소문자로만 이루어진 단어 S가 주어질때 a~z까지 각 알파벳이 단어에 몇 개씩 포함되어 있는지 공백으로 구분해 출력하기*\n",
    "\n",
    "* 입력예시\n",
    "\n",
    "    baekjoon\n",
    "\n",
    "* 출력 예시\n",
    "\n",
    "    1 1 0 0 1 0 0 0 0 1 1 0 0 1 2 0 0 0 0 0 0 0 0 0 0 0\n",
    "\n",
    "\n",
    "### 문제 풀이\n",
    "- 사고의 흐름\n",
    "    - 알파벳 개수만큼 0으로 채워진 빈 배열을 하나 두고 주어진 단어를 for문으로 돌면서 해당 알파벳 위치의 숫자를 하나씩 올리자\n",
    "    \n",
    "- 이슈\n",
    "    - ✨알파벳과 위치 인덱스의 매칭\n",
    "\n",
    "- reminding\n",
    "    - 알파벳 개수만큼 0 으로 채워진 배열 만들기\n",
    "        \n",
    "        방법1)\n",
    "\n",
    "        ```\n",
    "        temp = [0]*26\n",
    "        ```\n",
    "\n",
    "        방법2)\n",
    "        ```\n",
    "        temp2 = [0 for i in range(26)]\n",
    "        ```\n",
    "    - 알파벳 26개 리스트 혹은 문자열 만들기\n",
    "        \n",
    "        방법1)\n",
    "        ```\n",
    "        import string\n",
    "        print(list(string.ascii_lowercase))\n",
    "        ```\n",
    "        방법2) 아스키 chr()\n",
    "        ```\n",
    "        print(list(map(chr, range(97, 123))))\n",
    "        ```\n",
    "        방법3) 아스키 ord()\n",
    "        ```\n",
    "        print([chr(i) for i in range(ord('a'), ord('z')+1)])\n",
    "        ```\n",
    "- 1차시도\n",
    "    "
   ]
  },
  {
   "cell_type": "code",
   "execution_count": 21,
   "metadata": {},
   "outputs": [],
   "source": [
    "import string\n",
    "def getHowManyAlpha(word) :\n",
    "    temp = [0 for i in range(26)]\n",
    "    temp_alpha = ''.join(list(string.ascii_lowercase))\n",
    "    for w in word:\n",
    "        temp[temp_alpha.index(w)]+=1\n",
    "    result = ''\n",
    "    for v in temp:\n",
    "        result += str(v)\n",
    "    return ' '.join(result)\n"
   ]
  },
  {
   "cell_type": "markdown",
   "metadata": {},
   "source": [
    "### 문제점\n",
    "\n",
    "    함수의 반환이 문자열이다\n",
    "\n",
    "### 해결책\n",
    "\n",
    "    리스트 언패킹 이용. 문자열로 치환 전 숫자 상태의 리스트를 언패킹으로 출력\n"
   ]
  },
  {
   "cell_type": "markdown",
   "metadata": {},
   "source": [
    "* 2차 시도"
   ]
  },
  {
   "cell_type": "code",
   "execution_count": 23,
   "metadata": {},
   "outputs": [],
   "source": [
    "import string\n",
    "def getHowManyAlpha(word) :\n",
    "    temp = [0 for i in range(26)]\n",
    "    temp_alpha = ''.join(list(string.ascii_lowercase))\n",
    "    for w in word:\n",
    "        temp[temp_alpha.index(w)]+=1\n",
    "    print(*temp)"
   ]
  },
  {
   "cell_type": "code",
   "execution_count": 24,
   "metadata": {},
   "outputs": [
    {
     "name": "stdout",
     "output_type": "stream",
     "text": [
      "1 1 0 0 1 0 0 0 0 1 1 0 0 1 2 0 0 0 0 0 0 0 0 0 0 0\n"
     ]
    }
   ],
   "source": [
    "getHowManyAlpha(\"baekjoon\")"
   ]
  },
  {
   "cell_type": "markdown",
   "metadata": {},
   "source": [
    "* 3차시도\n",
    "\n",
    "    ord('a')=97 에 착안한 아이디어"
   ]
  },
  {
   "cell_type": "code",
   "execution_count": 19,
   "metadata": {},
   "outputs": [],
   "source": [
    "temp = [0 for i in range(26)]\n",
    "example = \"banana\"\n",
    "for i in example:\n",
    "    temp[ord(i)-97]+=1\n",
    "print(*temp)"
   ]
  },
  {
   "cell_type": "markdown",
   "metadata": {},
   "source": [
    "## 요약\n",
    "\n",
    "리스트 언팩킹 활용\n",
    "\n",
    "문자의 아스키번호 활용"
   ]
  },
  {
   "cell_type": "markdown",
   "metadata": {},
   "source": []
  }
 ],
 "metadata": {
  "interpreter": {
   "hash": "0f13a248913a870af0ba2054fe51062beda9d13fb1c3c7d582ccf867b2b153ae"
  },
  "kernelspec": {
   "display_name": "Python 3.8.5 64-bit",
   "language": "python",
   "name": "python3"
  },
  "language_info": {
   "codemirror_mode": {
    "name": "ipython",
    "version": 3
   },
   "file_extension": ".py",
   "mimetype": "text/x-python",
   "name": "python",
   "nbconvert_exporter": "python",
   "pygments_lexer": "ipython3",
   "version": "3.8.5"
  },
  "orig_nbformat": 4
 },
 "nbformat": 4,
 "nbformat_minor": 2
}
