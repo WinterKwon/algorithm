{
 "cells": [
  {
   "cell_type": "markdown",
   "metadata": {},
   "source": [
    "[2022-06-23] 백준 # 18258 큐2\n",
    "문제설명\n",
    "> 정수를 저장하는 큐를 구현한 다음, 입력으로 주어지는 명령을 처리하는 프로그램을 작성하시오.\n",
    "\n",
    "* push X: 정수 X를 큐에 넣는 연산이다.\n",
    "* pop: 큐에서 가장 앞에 있는 정수를 빼고, 그 수를 출력한다. 만약 큐에 들어있는 정수가 없는 경우에는 -1을 출력한다.\n",
    "* size: 큐에 들어있는 정수의 개수를 출력한다.\n",
    "* empty: 큐가 비어있으면 1, 아니면 0을 출력한다.\n",
    "* front: 큐의 가장 앞에 있는 정수를 출력한다. 만약 큐에 들어있는 정수가 없는 경우에는 -1을 출력한다.\n",
    "* back: 큐의 가장 뒤에 있는 정수를 출력한다. 만약 큐에 들어있는 정수가 없는 경우에는 -1을 출력한다.\n",
    "\n",
    "### 문제 해결\n",
    "파이썬 deque 라이브러리 이용  \n",
    "from collections import deque    \n",
    "* deque.append(item): item을 데크의 오른쪽 끝에 삽입한다.\n",
    "* deque.appendleft(item): item을 데크의 왼쪽 끝에 삽입한다.\n",
    "* deque.pop(): 데크의 오른쪽 끝 엘리먼트를 가져오는 동시에 데크에서 삭제한다.\n",
    "* deque.popleft(): 데크의 왼쪽 끝 엘리먼트를 가져오는 동시에 데크에서 삭제한다.\n",
    "* deque.extend(array): 주어진 배열(array)을 순환하면서 데크의 오른쪽에 추가한다.\n",
    "* deque.extendleft(array): 주어진 배열(array)을 순환하면서 데크의 왼쪽에 추가한다.\n",
    "* deque.remove(item): item을 데크에서 찾아 삭제한다.\n",
    "* deque.rotate(num): 데크를 num만큼 회전한다(양수면 오른쪽, 음수면 왼쪽)."
   ]
  },
  {
   "cell_type": "code",
   "execution_count": 1,
   "metadata": {},
   "outputs": [],
   "source": [
    "import sys\n",
    "from collections import deque\n",
    "\n",
    "num = int(sys.stdin.readline())\n",
    "result = deque()\n",
    "for i in range(num):\n",
    "    var = sys.stdin.readline().split()\n",
    "    if len(var) == 2:\n",
    "        a,b = var\n",
    "    else:\n",
    "        a = var[0]\n",
    "    if a == 'push':\n",
    "        result.append(int(b))\n",
    "    elif a == 'pop':\n",
    "        if len(result) == 0:\n",
    "            print(-1)\n",
    "        else:\n",
    "            print(result.popleft())\n",
    "    elif a == \"size\":\n",
    "        print(len(result))\n",
    "    elif a ==\"empty\":\n",
    "        if len(result) == 0:\n",
    "            print(1)\n",
    "        else:\n",
    "            print(0)\n",
    "    elif a =='front':\n",
    "        if len(result) == 0:\n",
    "            print(-1)\n",
    "        else:\n",
    "            print(result[0])\n",
    "    elif a == 'back':\n",
    "        if len(result) == 0:\n",
    "            print(-1)\n",
    "        else:\n",
    "            print(result[-1])\n",
    "\n"
   ]
  },
  {
   "cell_type": "code",
   "execution_count": null,
   "metadata": {},
   "outputs": [],
   "source": []
  }
 ],
 "metadata": {
  "kernelspec": {
   "display_name": "Python 3.8.5 64-bit",
   "language": "python",
   "name": "python3"
  },
  "language_info": {
   "codemirror_mode": {
    "name": "ipython",
    "version": 3
   },
   "file_extension": ".py",
   "mimetype": "text/x-python",
   "name": "python",
   "nbconvert_exporter": "python",
   "pygments_lexer": "ipython3",
   "version": "3.8.5"
  },
  "orig_nbformat": 4,
  "vscode": {
   "interpreter": {
    "hash": "0f13a248913a870af0ba2054fe51062beda9d13fb1c3c7d582ccf867b2b153ae"
   }
  }
 },
 "nbformat": 4,
 "nbformat_minor": 2
}
