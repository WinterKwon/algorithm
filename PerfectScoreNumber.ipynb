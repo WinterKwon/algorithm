{
 "cells": [
  {
   "cell_type": "markdown",
   "metadata": {},
   "source": [
    "##[2022-06-25] 백준 #1016 제곱 ㄴㄴ수\n",
    "\n",
    "### 문제\n",
    "> 어떤 정수 X가 1보다 큰 제곱수로 나누어 떨어지지 않을 때, 그 수를 제곱ㄴㄴ수라고 한다. 제곱수는 정수의 제곱이다. min과 max가 주어지면, min보다 크거나 같고, max보다 작거나 같은 제곱ㄴㄴ수가 몇 개 있는지 출력한다.\n",
    "\n",
    "\n",
    "### 문제 접근\n",
    "에라토스테네스의 체 응용문제\n",
    "🏈에라토스테네스의 체  \n",
    "> 고대 그리스의 수학자 에라토스테네스가 만들어 낸 소수를 찾는 방법  \n",
    "임의의 자연수 n에 대해 그 이하의 소수를 찾는 가장 간단하고 빠른 방법  \n",
    "2부터 자신을 제외한 그 배수를 모두 지워가는 방식  \n",
    "n**0.5까지만 살펴보면 됨\n",
    "\n",
    "min~max 범위에서-> 1차 for문  \n",
    "min의 제곱근부터 max의 제곱근까지의 범위를 for문으로 돌면서-> 2차 for문  \n",
    "제곱수의 % 나머지가 0이 아니면 count +=1\n",
    "\n",
    "### 이슈\n",
    "완전제곱수의 배수 처리하기  \n",
    "\n",
    "방법 1.  \n",
    "    \n"
   ]
  },
  {
   "cell_type": "code",
   "execution_count": 32,
   "metadata": {},
   "outputs": [
    {
     "name": "stdout",
     "output_type": "stream",
     "text": [
      "[2, 3, 5, 7, 11, 13, 17, 19, 23, 29, 31, 37, 41, 43, 47, 53, 59, 61, 67, 71, 73, 79, 83, 89, 97, 101, 103, 107, 109, 113, 127, 131, 137, 139, 149, 151, 157, 163, 167, 173, 179, 181, 191, 193, 197, 199, 211, 223, 227, 229, 233, 239, 241, 251, 257, 263, 269, 271, 277, 281, 283, 293, 307, 311, 313, 317, 331, 337, 347, 349, 353, 359, 367, 373, 379, 383, 389, 397, 401, 409, 419, 421, 431, 433, 439, 443, 449, 457, 461, 463, 467, 479, 487, 491, 499, 503, 509, 521, 523, 541, 547, 557, 563, 569, 571, 577, 587, 593, 599, 601, 607, 613, 617, 619, 631, 641, 643, 647, 653, 659, 661, 673, 677, 683, 691, 701, 709, 719, 727, 733, 739, 743, 751, 757, 761, 769, 773, 787, 797, 809, 811, 821, 823, 827, 829, 839, 853, 857, 859, 863, 877, 881, 883, 887, 907, 911, 919, 929, 937, 941, 947, 953, 967, 971, 977, 983, 991, 997]\n"
     ]
    }
   ],
   "source": [
    "n = 1000\n",
    "a = [False, False] + [True]*(n-1)\n",
    "primes = []\n",
    "for i in range(2, n+1):\n",
    "    if a[i]:\n",
    "        primes.append(i)\n",
    "        for j in range(2*i, n+1, i):\n",
    "            a[j]=False\n",
    "\n",
    "print(primes)"
   ]
  },
  {
   "cell_type": "code",
   "execution_count": 80,
   "metadata": {},
   "outputs": [
    {
     "name": "stdout",
     "output_type": "stream",
     "text": [
      "608\n"
     ]
    }
   ],
   "source": [
    "def isSquare (n):\n",
    "    temp = n**0.5\n",
    "    if int(temp) == temp:\n",
    "        return True\n",
    "    else:\n",
    "        return False\n",
    "n,m=map(int, input().split())\n",
    "\n",
    "\n",
    "ans = [True] * (m - n +1)\n",
    "\n",
    "\n",
    "for i in range(n,m+1):\n",
    "    if i == 1:\n",
    "        pass\n",
    "    elif isSquare(i):\n",
    "        ans[i-n]= False\n",
    "        j = 2\n",
    "        while i*j <= m:\n",
    "            ans[i*j-n] = False\n",
    "            j+=1\n",
    "          \n",
    "        \n",
    "print(sum(ans))\n",
    "# print(ans)\n",
    "\n"
   ]
  },
  {
   "cell_type": "markdown",
   "metadata": {},
   "source": [
    "위 코드는 예시 케이스는 통과하지만 제출하면 오답.  \n",
    "18 18 처럼 숫자 하나만 계산해야하는 경우 처리에서 문제인듯\n"
   ]
  },
  {
   "cell_type": "code",
   "execution_count": 84,
   "metadata": {},
   "outputs": [
    {
     "name": "stdout",
     "output_type": "stream",
     "text": [
      "608\n"
     ]
    }
   ],
   "source": [
    "def isSquare (n):\n",
    "    temp = n**0.5\n",
    "    if int(temp) == temp:\n",
    "        return True\n",
    "    else:\n",
    "        return False\n",
    "n,m=map(int, input().split())\n",
    "\n",
    "\n",
    "ans = [True] * (m - n +1)\n",
    "\n",
    "if len(ans) == 1:\n",
    "    for i in range(2,int(m**0.5)):\n",
    "        if n % i**2 ==0:\n",
    "            ans[0] = False\n",
    "else:\n",
    "    for i in range(n,m+1):\n",
    "        if i == 1:\n",
    "            pass\n",
    "        elif isSquare(i):\n",
    "            ans[i-n]= False\n",
    "            j = 2\n",
    "            while i*j <= m:\n",
    "                ans[i*j-n] = False\n",
    "                j+=1\n",
    "print(sum(ans))   "
   ]
  },
  {
   "cell_type": "markdown",
   "metadata": {},
   "source": [
    "음.. 숫자가 하나인 경우 제곱수 배수 판정을 해줘도 오답으로 채점이 되는구만.  \n",
    "min-max 범위 내의 모든 수를 제곱수 배수 판정으로 로직을 바꿔보자."
   ]
  },
  {
   "cell_type": "code",
   "execution_count": 101,
   "metadata": {},
   "outputs": [
    {
     "name": "stdout",
     "output_type": "stream",
     "text": [
      "17\n"
     ]
    }
   ],
   "source": [
    "n,m=map(int, input().split())\n",
    "\n",
    "# ans = [True] * (m - n +1)\n",
    "\n",
    "cnt = 0 \n",
    "if m-n == 0:\n",
    "    for i in range(2,int(m**0.5)):\n",
    "        if n % i**2 ==0:\n",
    "            pass\n",
    "        else:\n",
    "            cnt += 1\n",
    "else : \n",
    "    for k in range(n, m+1):\n",
    "        for i in range(2,int((m-n)**0.5)+1):\n",
    "            if k % i**2 == 0:\n",
    "                pass\n",
    "            else:\n",
    "                cnt +=1\n",
    "\n",
    "print(cnt)\n",
    "\n"
   ]
  },
  {
   "cell_type": "markdown",
   "metadata": {},
   "source": [
    "점입가경이구만"
   ]
  },
  {
   "cell_type": "code",
   "execution_count": null,
   "metadata": {},
   "outputs": [],
   "source": []
  },
  {
   "cell_type": "code",
   "execution_count": 94,
   "metadata": {},
   "outputs": [
    {
     "data": {
      "text/plain": [
       "4"
      ]
     },
     "execution_count": 94,
     "metadata": {},
     "output_type": "execute_result"
    }
   ],
   "source": [
    "int(23**0.5)"
   ]
  },
  {
   "cell_type": "code",
   "execution_count": 91,
   "metadata": {},
   "outputs": [
    {
     "data": {
      "text/plain": [
       "1024"
      ]
     },
     "execution_count": 91,
     "metadata": {},
     "output_type": "execute_result"
    }
   ],
   "source": [
    "32**2"
   ]
  },
  {
   "cell_type": "markdown",
   "metadata": {},
   "source": [
    "\n",
    "### 완전제곱수 perfect score number\n",
    "    어떤 자연수의 제곱이 되는 수는 완전제곱수이다.  \n",
    "    파이썬으로 완전제곱수 여부를 판별하려면 제곱근의 성질을 이용한다"
   ]
  },
  {
   "cell_type": "code",
   "execution_count": 1,
   "metadata": {},
   "outputs": [],
   "source": [
    "def isSquare (n):\n",
    "    temp = n**0.5\n",
    "    if int(temp) == temp:\n",
    "        return True\n",
    "    else:\n",
    "        return False"
   ]
  },
  {
   "cell_type": "code",
   "execution_count": 2,
   "metadata": {},
   "outputs": [
    {
     "data": {
      "text/plain": [
       "True"
      ]
     },
     "execution_count": 2,
     "metadata": {},
     "output_type": "execute_result"
    }
   ],
   "source": [
    "isSquare(4)"
   ]
  },
  {
   "cell_type": "code",
   "execution_count": 16,
   "metadata": {},
   "outputs": [],
   "source": [
    "# 소수 판별기\n",
    "def isPrime(n):\n",
    "    divisor = 2\n",
    "    if (n ==1):\n",
    "        return False\n",
    "    while (n > divisor):\n",
    "        if(n % divisor == 0):\n",
    "            return False\n",
    "        else:\n",
    "            divisor += 1\n",
    "        \n",
    "    return True"
   ]
  },
  {
   "cell_type": "code",
   "execution_count": 19,
   "metadata": {},
   "outputs": [
    {
     "data": {
      "text/plain": [
       "False"
      ]
     },
     "execution_count": 19,
     "metadata": {},
     "output_type": "execute_result"
    }
   ],
   "source": [
    "isPrime(15)"
   ]
  },
  {
   "cell_type": "code",
   "execution_count": 29,
   "metadata": {},
   "outputs": [],
   "source": [
    "# 소수 판별기 2 - sqrt 성질 이용\n",
    "def isPrime2(n):\n",
    "    \n",
    "    if n == 1:\n",
    "        return False\n",
    "    elif n == 2:\n",
    "        return True\n",
    "    elif n % 2 == 0 :\n",
    "        return False\n",
    "    else:\n",
    "\n",
    "        for i in range(3,int(n**0.5)+1):\n",
    "            if (n % i == 0):\n",
    "                return False\n",
    "        return True   "
   ]
  },
  {
   "cell_type": "code",
   "execution_count": 31,
   "metadata": {},
   "outputs": [
    {
     "data": {
      "text/plain": [
       "True"
      ]
     },
     "execution_count": 31,
     "metadata": {},
     "output_type": "execute_result"
    }
   ],
   "source": [
    "isPrime2(1061)"
   ]
  },
  {
   "cell_type": "code",
   "execution_count": 26,
   "metadata": {},
   "outputs": [
    {
     "data": {
      "text/plain": [
       "3.872983346207417"
      ]
     },
     "execution_count": 26,
     "metadata": {},
     "output_type": "execute_result"
    }
   ],
   "source": [
    "15**0.5"
   ]
  },
  {
   "cell_type": "code",
   "execution_count": 8,
   "metadata": {},
   "outputs": [
    {
     "data": {
      "text/plain": [
       "21"
      ]
     },
     "execution_count": 8,
     "metadata": {},
     "output_type": "execute_result"
    }
   ],
   "source": [
    "len('21글자이상의문자입니다.12341234')"
   ]
  },
  {
   "cell_type": "code",
   "execution_count": 9,
   "metadata": {},
   "outputs": [],
   "source": [
    "graph = {\n",
    "    'A': {'B': 8, 'C': 1, 'D': 2},\n",
    "    'B': {},\n",
    "    'C': {'B': 5, 'D': 2},\n",
    "    'D': {'E': 3, 'F': 5},\n",
    "    'E': {'F': 1},\n",
    "    'F': {'A': 5}\n",
    "}"
   ]
  },
  {
   "cell_type": "code",
   "execution_count": 10,
   "metadata": {},
   "outputs": [
    {
     "name": "stdout",
     "output_type": "stream",
     "text": [
      "{'A': inf, 'B': inf, 'C': inf, 'D': inf, 'E': inf, 'F': inf}\n"
     ]
    }
   ],
   "source": [
    "dist = {node: float('inf') for node in graph}\n",
    "print(dist)"
   ]
  },
  {
   "cell_type": "code",
   "execution_count": 36,
   "metadata": {},
   "outputs": [],
   "source": [
    "def printList(List):\n",
    "    for n in List:\n",
    "        if n % 2 == 0:\n",
    "            print(n)\n",
    "        else:\n",
    "            pass\n",
    "        print('phase', n)"
   ]
  },
  {
   "cell_type": "code",
   "execution_count": 37,
   "metadata": {},
   "outputs": [
    {
     "name": "stdout",
     "output_type": "stream",
     "text": [
      "0\n",
      "phase 0\n",
      "phase 1\n",
      "2\n",
      "phase 2\n",
      "phase 3\n",
      "4\n",
      "phase 4\n",
      "phase 5\n",
      "6\n",
      "phase 6\n",
      "phase 7\n",
      "8\n",
      "phase 8\n",
      "phase 9\n"
     ]
    }
   ],
   "source": [
    "a = list(range(10))\n",
    "printList(a)"
   ]
  },
  {
   "cell_type": "code",
   "execution_count": null,
   "metadata": {},
   "outputs": [],
   "source": []
  }
 ],
 "metadata": {
  "kernelspec": {
   "display_name": "Python 3.8.5 64-bit",
   "language": "python",
   "name": "python3"
  },
  "language_info": {
   "codemirror_mode": {
    "name": "ipython",
    "version": 3
   },
   "file_extension": ".py",
   "mimetype": "text/x-python",
   "name": "python",
   "nbconvert_exporter": "python",
   "pygments_lexer": "ipython3",
   "version": "3.8.5"
  },
  "orig_nbformat": 4,
  "vscode": {
   "interpreter": {
    "hash": "0f13a248913a870af0ba2054fe51062beda9d13fb1c3c7d582ccf867b2b153ae"
   }
  }
 },
 "nbformat": 4,
 "nbformat_minor": 2
}
